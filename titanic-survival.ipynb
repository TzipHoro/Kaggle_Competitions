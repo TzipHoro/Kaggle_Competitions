{
 "cells": [
  {
   "cell_type": "markdown",
   "metadata": {
    "papermill": {
     "duration": 0.006498,
     "end_time": "2020-10-02T03:12:22.395340",
     "exception": false,
     "start_time": "2020-10-02T03:12:22.388842",
     "status": "completed"
    },
    "tags": []
   },
   "source": [
    "Libraries"
   ]
  },
  {
   "cell_type": "code",
   "execution_count": 1,
   "metadata": {
    "_cell_guid": "79c7e3d0-c299-4dcb-8224-4455121ee9b0",
    "_uuid": "d629ff2d2480ee46fbb7e2d37f6b5fab8052498a",
    "execution": {
     "iopub.execute_input": "2020-10-02T03:12:22.411118Z",
     "iopub.status.busy": "2020-10-02T03:12:22.410664Z",
     "iopub.status.idle": "2020-10-02T03:12:23.569758Z",
     "shell.execute_reply": "2020-10-02T03:12:23.569262Z"
    },
    "papermill": {
     "duration": 1.168706,
     "end_time": "2020-10-02T03:12:23.569839",
     "exception": false,
     "start_time": "2020-10-02T03:12:22.401133",
     "status": "completed"
    },
    "tags": []
   },
   "outputs": [],
   "source": [
    "import pandas as pd\n",
    "import numpy as np\n",
    "from sklearn.experimental import enable_iterative_imputer\n",
    "from sklearn.impute import IterativeImputer\n",
    "from sklearn.ensemble import RandomForestClassifier\n",
    "from sklearn.model_selection import train_test_split\n",
    "from sklearn.metrics import confusion_matrix"
   ]
  },
  {
   "cell_type": "markdown",
   "metadata": {
    "papermill": {
     "duration": 0.0053,
     "end_time": "2020-10-02T03:12:23.580954",
     "exception": false,
     "start_time": "2020-10-02T03:12:23.575654",
     "status": "completed"
    },
    "tags": []
   },
   "source": [
    "Import Data"
   ]
  },
  {
   "cell_type": "code",
   "execution_count": 2,
   "metadata": {
    "execution": {
     "iopub.execute_input": "2020-10-02T03:12:23.597648Z",
     "iopub.status.busy": "2020-10-02T03:12:23.597092Z",
     "iopub.status.idle": "2020-10-02T03:12:23.615012Z",
     "shell.execute_reply": "2020-10-02T03:12:23.615378Z"
    },
    "papermill": {
     "duration": 0.029316,
     "end_time": "2020-10-02T03:12:23.615518",
     "exception": false,
     "start_time": "2020-10-02T03:12:23.586202",
     "status": "completed"
    },
    "tags": []
   },
   "outputs": [],
   "source": [
    "train_set = pd.read_csv(\"../input/titanic/train.csv\")\n",
    "test_set = pd.read_csv(\"../input/titanic/test.csv\")"
   ]
  },
  {
   "cell_type": "markdown",
   "metadata": {
    "papermill": {
     "duration": 0.005315,
     "end_time": "2020-10-02T03:12:23.626705",
     "exception": false,
     "start_time": "2020-10-02T03:12:23.621390",
     "status": "completed"
    },
    "tags": []
   },
   "source": [
    "Data Wrangling"
   ]
  },
  {
   "cell_type": "code",
   "execution_count": 3,
   "metadata": {
    "execution": {
     "iopub.execute_input": "2020-10-02T03:12:23.649241Z",
     "iopub.status.busy": "2020-10-02T03:12:23.644836Z",
     "iopub.status.idle": "2020-10-02T03:12:23.967343Z",
     "shell.execute_reply": "2020-10-02T03:12:23.966736Z"
    },
    "papermill": {
     "duration": 0.335362,
     "end_time": "2020-10-02T03:12:23.967442",
     "exception": false,
     "start_time": "2020-10-02T03:12:23.632080",
     "status": "completed"
    },
    "tags": []
   },
   "outputs": [],
   "source": [
    "## training data\n",
    "train_set.head()\n",
    "train_set.isnull().sum()\n",
    "train_set.dropna(axis=0, subset=[\"Embarked\"], inplace=True)\n",
    "train_set[\"Name\"] = train_set[\"Name\"].str.split('.').str[0]\n",
    "train_set[\"Name\"] = train_set[\"Name\"].str.split(',').str[1]\n",
    "\n",
    "y = train_set[\"Survived\"]\n",
    "X = train_set.drop([\"Cabin\", \"Ticket\", \"PassengerId\", \"Survived\"], axis=1)\n",
    "X[\"Sex\"] = (X[\"Sex\"]  == \"female\").astype(int)\n",
    "X = pd.get_dummies(X)\n",
    "\n",
    "# impute missing train values\n",
    "isnull_Age = X[\"Age\"].isnull().astype(int)\n",
    "imputer = IterativeImputer()\n",
    "age = np.array(pd.DataFrame(imputer.fit_transform(X))[2])\n",
    "X[\"Age\"] = age\n",
    "X[\"isnull_Age\"] = isnull_Age\n",
    "X.isnull().sum()\n",
    "X.drop(['Name_ Capt', 'Name_ Don', 'Name_ Jonkheer', 'Name_ Lady', 'Name_ Major', \\\n",
    "        'Name_ Mlle', 'Name_ Mme', 'Name_ Sir', 'Name_ the Countess'], axis = 1, inplace = True)\n",
    "\n",
    "## test data\n",
    "test_set.head()\n",
    "test_set.isnull().sum()\n",
    "test_set[\"Name\"] = test_set[\"Name\"].str.split('.').str[0]\n",
    "test_set[\"Name\"] = test_set[\"Name\"].str.split(',').str[1]\n",
    "\n",
    "Xtest = test_set.drop([\"Cabin\", \"Ticket\", \"PassengerId\"], axis=1)\n",
    "Xtest[\"Sex\"] = (Xtest[\"Sex\"]  == \"female\").astype(int)\n",
    "Xtest = pd.get_dummies(Xtest)\n",
    "\n",
    "# impute missing test values\n",
    "isnull_Age = Xtest[\"Age\"].isnull().astype(int)\n",
    "imputer = IterativeImputer()\n",
    "age = np.array(pd.DataFrame(imputer.fit_transform(Xtest))[2])\n",
    "fare = np.array(pd.DataFrame(imputer.fit_transform(Xtest))[5])\n",
    "Xtest[\"Age\"] = age\n",
    "Xtest[\"Fare\"] = fare\n",
    "Xtest[\"isnull_Age\"] = isnull_Age\n",
    "Xtest.isnull().sum()\n",
    "Xtest.drop('Name_ Dona', axis = 1, inplace=True)"
   ]
  },
  {
   "cell_type": "markdown",
   "metadata": {
    "papermill": {
     "duration": 0.005352,
     "end_time": "2020-10-02T03:12:23.978621",
     "exception": false,
     "start_time": "2020-10-02T03:12:23.973269",
     "status": "completed"
    },
    "tags": []
   },
   "source": [
    "Train the Random Forest Model"
   ]
  },
  {
   "cell_type": "code",
   "execution_count": 4,
   "metadata": {
    "execution": {
     "iopub.execute_input": "2020-10-02T03:12:23.996144Z",
     "iopub.status.busy": "2020-10-02T03:12:23.995137Z",
     "iopub.status.idle": "2020-10-02T03:12:25.029724Z",
     "shell.execute_reply": "2020-10-02T03:12:25.029295Z"
    },
    "papermill": {
     "duration": 1.045676,
     "end_time": "2020-10-02T03:12:25.029802",
     "exception": false,
     "start_time": "2020-10-02T03:12:23.984126",
     "status": "completed"
    },
    "tags": []
   },
   "outputs": [
    {
     "name": "stdout",
     "output_type": "stream",
     "text": [
      "OOB Score:  0.8301462317210349\n",
      "Confusion Matrix (In Sample): \n",
      " [[522  27]\n",
      " [ 79 261]]\n"
     ]
    }
   ],
   "source": [
    "# Random Forest Model\n",
    "rf = RandomForestClassifier(n_estimators = 500, max_depth = 7, oob_score = True)\n",
    "rf.fit(X, y)\n",
    "print('OOB Score: ', rf.oob_score_)\n",
    "rf.score(X, y)\n",
    "yhat_in_sample = rf.predict(X)\n",
    "print('Confusion Matrix (In Sample): \\n', confusion_matrix(y, yhat_in_sample))\n"
   ]
  },
  {
   "cell_type": "markdown",
   "metadata": {
    "papermill": {
     "duration": 0.006781,
     "end_time": "2020-10-02T03:12:25.044320",
     "exception": false,
     "start_time": "2020-10-02T03:12:25.037539",
     "status": "completed"
    },
    "tags": []
   },
   "source": [
    "Out of Sample Performance"
   ]
  },
  {
   "cell_type": "code",
   "execution_count": 5,
   "metadata": {
    "execution": {
     "iopub.execute_input": "2020-10-02T03:12:25.063844Z",
     "iopub.status.busy": "2020-10-02T03:12:25.062532Z",
     "iopub.status.idle": "2020-10-02T03:12:26.389222Z",
     "shell.execute_reply": "2020-10-02T03:12:26.389595Z"
    },
    "papermill": {
     "duration": 1.339479,
     "end_time": "2020-10-02T03:12:26.389704",
     "exception": false,
     "start_time": "2020-10-02T03:12:25.050225",
     "status": "completed"
    },
    "tags": []
   },
   "outputs": [
    {
     "name": "stdout",
     "output_type": "stream",
     "text": [
      "OOB Score:  0.8218487394957983\n",
      "Confusion Matrix: \n",
      " [[156  13]\n",
      " [ 45  80]]\n"
     ]
    }
   ],
   "source": [
    "X_train, X_test, y_train, y_test = train_test_split(X, y, test_size=0.33)\n",
    "rf.fit(X_train, y_train)\n",
    "print('OOB Score: ', rf.oob_score_)\n",
    "yhat = rf.predict(X_test)\n",
    "np.mean((y_test - yhat)**2)\n",
    "print('Confusion Matrix: \\n', confusion_matrix(y_test, yhat))"
   ]
  },
  {
   "cell_type": "markdown",
   "metadata": {
    "papermill": {
     "duration": 0.006712,
     "end_time": "2020-10-02T03:12:26.403269",
     "exception": false,
     "start_time": "2020-10-02T03:12:26.396557",
     "status": "completed"
    },
    "tags": []
   },
   "source": [
    "Predictions"
   ]
  },
  {
   "cell_type": "code",
   "execution_count": 6,
   "metadata": {
    "execution": {
     "iopub.execute_input": "2020-10-02T03:12:26.422983Z",
     "iopub.status.busy": "2020-10-02T03:12:26.422528Z",
     "iopub.status.idle": "2020-10-02T03:12:27.839055Z",
     "shell.execute_reply": "2020-10-02T03:12:27.838614Z"
    },
    "papermill": {
     "duration": 1.428805,
     "end_time": "2020-10-02T03:12:27.839146",
     "exception": false,
     "start_time": "2020-10-02T03:12:26.410341",
     "status": "completed"
    },
    "tags": []
   },
   "outputs": [
    {
     "name": "stdout",
     "output_type": "stream",
     "text": [
      "[0 0 0 0 1 0 0 0 1 0 0 0 1 0 1 1 0 0 0 1 0 1 1 0 1 0 1 0 0 0 0 0 1 1 0 0 0\n",
      " 0 0 0 0 0 0 1 1 0 0 0 1 1 0 0 1 1 0 0 0 0 0 1 0 0 0 1 1 1 1 0 0 1 1 0 0 0\n",
      " 1 0 0 1 0 1 1 0 0 0 0 0 1 0 1 1 1 0 1 0 0 0 1 0 1 0 1 0 0 0 1 0 0 0 0 0 0\n",
      " 1 1 1 1 0 0 1 0 1 1 0 1 0 0 1 0 1 0 0 0 1 0 0 0 0 0 0 0 0 0 1 0 0 0 0 0 0\n",
      " 0 0 1 0 0 1 0 0 1 1 0 1 1 1 1 0 0 1 0 0 1 0 0 0 0 0 0 1 1 0 1 1 0 0 1 0 1\n",
      " 0 1 0 0 0 0 0 1 0 1 0 1 1 0 1 1 1 1 1 0 0 0 0 1 0 0 0 0 1 0 0 1 0 1 0 1 0\n",
      " 1 0 1 1 0 1 0 0 0 1 0 0 0 0 0 0 1 1 1 1 0 0 1 0 1 0 1 1 1 0 0 0 0 0 0 0 1\n",
      " 0 0 0 1 1 0 0 0 0 0 0 0 0 1 1 0 1 0 0 0 0 0 1 1 1 1 0 0 0 0 0 0 0 0 1 0 0\n",
      " 1 0 0 0 0 0 0 0 1 1 0 1 0 0 0 0 0 0 1 1 0 0 0 0 0 0 0 0 1 0 1 0 0 0 1 0 0\n",
      " 1 0 0 0 0 0 1 0 0 0 1 1 1 0 1 0 1 1 0 0 0 1 0 1 0 0 1 0 1 1 0 1 1 0 0 1 0\n",
      " 0 1 0 0 1 1 0 0 0 0 0 0 1 1 0 1 0 0 0 0 0 1 1 0 0 1 0 1 0 0 1 0 1 0 0 0 0\n",
      " 0 1 1 1 1 0 0 1 0 0 1]\n"
     ]
    }
   ],
   "source": [
    "# predict test data\n",
    "rf.fit(X, y)\n",
    "yhat_test = rf.predict(Xtest)\n",
    "print(yhat_test)\n",
    "\n",
    "predictions = {\"PassengerId\" : test_set[\"PassengerId\"], \"Survived\" : yhat_test}\n",
    "predictions = pd.DataFrame(predictions)\n",
    "predictions.to_csv('survived_submission.csv', index = False)"
   ]
  }
 ],
 "metadata": {
  "kernelspec": {
   "display_name": "Python 3",
   "language": "python",
   "name": "python3"
  },
  "language_info": {
   "codemirror_mode": {
    "name": "ipython",
    "version": 3
   },
   "file_extension": ".py",
   "mimetype": "text/x-python",
   "name": "python",
   "nbconvert_exporter": "python",
   "pygments_lexer": "ipython3",
   "version": "3.7.6"
  },
  "papermill": {
   "duration": 9.378816,
   "end_time": "2020-10-02T03:12:27.952687",
   "environment_variables": {},
   "exception": null,
   "input_path": "__notebook__.ipynb",
   "output_path": "__notebook__.ipynb",
   "parameters": {},
   "start_time": "2020-10-02T03:12:18.573871",
   "version": "2.1.0"
  }
 },
 "nbformat": 4,
 "nbformat_minor": 4
}
